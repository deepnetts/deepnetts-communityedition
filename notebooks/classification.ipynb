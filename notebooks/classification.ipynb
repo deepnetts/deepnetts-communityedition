{
 "cells": [
  {
   "cell_type": "markdown",
   "metadata": {},
   "source": [
    "# Classification Notebook\n",
    "\n",
    "This notebook is an exact copy of the example provided by **DeepNetts** at https://github.com/deepnetts/deepnetts-communityedition/blob/community-visrec/deepnetts-examples/src/main/java/deepnetts/examples/IrisFlowersClassifier.java"
   ]
  },
  {
   "cell_type": "markdown",
   "metadata": {},
   "source": [
    "We need to load the `deepnetts-core` jar and other dependencies (via Maven pom invocations) before we get started. The deepnetts-examples-n.nn.jar (for e.g. deepnetts-examples-1.11.jar) is a result of building the `deepnetts-communityedition` project and copying the `jar` from the `target` folder into the `notebooks` folder."
   ]
  },
  {
   "cell_type": "code",
   "execution_count": 1,
   "metadata": {},
   "outputs": [],
   "source": [
    "%%loadFromPOM\n",
    "\n",
    "<properties>\n",
    "    <deepnetts.version>1.12</deepnetts.version>\n",
    "    <visrec.version>1.0.1</visrec.version>\n",
    "</properties>\n",
    "\n",
    "<dependency>\n",
    "  <groupId>javax.visrec</groupId>\n",
    "  <artifactId>visrec-api</artifactId>\n",
    "  <version>1.0.1</version>\n",
    "</dependency>\n",
    "<dependency>\n",
    "  <groupId>javax.visrec</groupId>\n",
    "  <artifactId>visrec-ri</artifactId>\n",
    "  <version>1.0.1</version>\n",
    "  <type>jar</type>\n",
    "  <exclusions>\n",
    "      <exclusion>\n",
    "          <groupId>com.deepnetts</groupId>\n",
    "          <artifactId>deepnetts-core</artifactId>\n",
    "      </exclusion>\n",
    "  </exclusions>\n",
    "</dependency>\n",
    "<dependency>\n",
    "  <groupId>org.knowm.xchart</groupId>\n",
    "  <artifactId>xchart</artifactId>\n",
    "  <version>3.5.2</version>\n",
    "</dependency>\n",
    "<dependency>\n",
    "    <groupId>com.deepnetts</groupId>\n",
    "    <artifactId>deepnetts-core</artifactId>\n",
    "    <version>${deepnetts.version}</version>\n",
    "</dependency> "
   ]
  },
  {
   "cell_type": "code",
   "execution_count": 2,
   "metadata": {},
   "outputs": [],
   "source": [
    "%%loadFromPOM\n",
    "\n",
    "<!--log4j2 dependencies -->\n",
    "<properties>\n",
    "    <log4j2.version>2.7</log4j2.version>\n",
    "</properties>\n",
    "<dependency>\n",
    "    <groupId>org.apache.logging.log4j</groupId>\n",
    "    <artifactId>log4j-api</artifactId>\n",
    "    <version>${log4j2.version}</version>\n",
    "</dependency>\n",
    "<dependency>\n",
    "    <groupId>org.apache.logging.log4j</groupId>\n",
    "    <artifactId>log4j-core</artifactId>\n",
    "    <version>${log4j2.version}</version>\n",
    "</dependency>\n",
    "<dependency>\n",
    "    <groupId>org.apache.logging.log4j</groupId>\n",
    "    <artifactId>log4j-1.2-api</artifactId>\n",
    "    <version>${log4j2.version}</version>\n",
    "</dependency>\n",
    "<dependency>\n",
    "    <groupId>org.apache.logging.log4j</groupId>\n",
    "    <artifactId>log4j-slf4j-impl</artifactId>\n",
    "    <version>${log4j2.version}</version>\n",
    "</dependency>\n",
    "<dependency>\n",
    "    <groupId>org.apache.logging.log4j</groupId>\n",
    "    <artifactId>log4j-jcl</artifactId>\n",
    "    <version>${log4j2.version}</version>\n",
    "</dependency>"
   ]
  },
  {
   "cell_type": "code",
   "execution_count": 3,
   "metadata": {},
   "outputs": [],
   "source": [
    "import java.io.IOException;"
   ]
  },
  {
   "cell_type": "code",
   "execution_count": 4,
   "metadata": {
    "scrolled": false
   },
   "outputs": [],
   "source": [
    "import deepnetts.data.DataSets;\n",
    "import deepnetts.eval.ClassifierEvaluator;\n",
    "import deepnetts.eval.ConfusionMatrix;\n",
    "import deepnetts.net.FeedForwardNetwork;\n",
    "import deepnetts.net.layers.activation.ActivationType;\n",
    "import deepnetts.net.loss.LossType;\n",
    "import deepnetts.net.train.BackpropagationTrainer;\n",
    "import deepnetts.net.train.opt.OptimizerType;\n",
    "import deepnetts.util.DeepNettsException;\n",
    "import javax.visrec.ml.data.DataSet;\n",
    "import javax.visrec.ml.eval.EvaluationMetrics;"
   ]
  },
  {
   "cell_type": "code",
   "execution_count": 5,
   "metadata": {},
   "outputs": [],
   "source": [
    "int numInputs = 4;  // corresponds to number of input features\n",
    "int numOutputs = 3; // corresponds to number of possible classes/categories\n",
    "double test_train_ratio = 0.6;"
   ]
  },
  {
   "cell_type": "markdown",
   "metadata": {},
   "source": [
    "These imports are for the provenance system, which we'll get to in a minute."
   ]
  },
  {
   "cell_type": "markdown",
   "metadata": {},
   "source": [
    "## Loading the data"
   ]
  },
  {
   "cell_type": "code",
   "execution_count": 6,
   "metadata": {
    "scrolled": true
   },
   "outputs": [
    {
     "name": "stdout",
     "output_type": "stream",
     "text": [
      "~~ Running DeepNetts Machine Classification\n",
      "~~~ Loading the data\n"
     ]
    }
   ],
   "source": [
    "System.out.println(\"~~ Running DeepNetts Machine Classification\");\n",
    "System.out.println(\"~~~ Loading the data\");\n",
    "DataSet dataSet = DataSets.readCsv(\"../deepnetts-examples/datasets/iris_data_normalised.txt\", numInputs, numOutputs, true);"
   ]
  },
  {
   "cell_type": "markdown",
   "metadata": {},
   "source": [
    "## Splitting datasets"
   ]
  },
  {
   "cell_type": "code",
   "execution_count": 7,
   "metadata": {},
   "outputs": [
    {
     "name": "stdout",
     "output_type": "stream",
     "text": [
      "~~~~~~ Splitting datasets\n",
      "Training data size = 90 rows\n",
      "Testing data size = 60 rows\n"
     ]
    }
   ],
   "source": [
    "System.out.println(\"~~~~~~ Splitting datasets\");\n",
    "DataSet[] trainTestSet = dataSet.split(test_train_ratio, 1 - test_train_ratio);\n",
    "System.out.println(String.format(\"Training data size = %d rows\", trainTestSet[0].size()));\n",
    "System.out.println(String.format(\"Testing data size = %d rows\", trainTestSet[1].size()));"
   ]
  },
  {
   "cell_type": "markdown",
   "metadata": {},
   "source": [
    "## Training the model"
   ]
  },
  {
   "cell_type": "code",
   "execution_count": 8,
   "metadata": {},
   "outputs": [
    {
     "name": "stdout",
     "output_type": "stream",
     "text": [
      "~~~ Training the model ~~~\n",
      "Input Layer { width:4, height:1, depth:1 }\n",
      "Fully Connected Layer { width:5 activation:TANH}\n",
      "Output Layer { width:3, activation:SOFTMAX}\n",
      "\n"
     ]
    }
   ],
   "source": [
    "System.out.println(\"~~~ Training the model ~~~\");\n",
    "// create instance of multi addLayer percetpron using builder\n",
    "FeedForwardNetwork neuralNet = FeedForwardNetwork.builder()\n",
    "        .addInputLayer(numInputs)\n",
    "        .addFullyConnectedLayer(5, ActivationType.TANH)\n",
    "        .addOutputLayer(numOutputs, ActivationType.SOFTMAX)\n",
    "        .lossFunction(LossType.CROSS_ENTROPY)\n",
    "        .randomSeed(456)\n",
    "        .build();\n",
    "System.out.println(neuralNet.toString());"
   ]
  },
  {
   "cell_type": "code",
   "execution_count": 9,
   "metadata": {},
   "outputs": [
    {
     "name": "stdout",
     "output_type": "stream",
     "text": [
      "------------------------------------------------------------------------------------------------------------------------------------------------\n",
      "TRAINING NEURAL NETWORK\n",
      "------------------------------------------------------------------------------------------------------------------------------------------------\n",
      "Epoch:1, Time:56ms, TrainError:0.8182211, TrainErrorChange:0.8182211, TrainAccuracy: 0.5833333\n",
      "Epoch:2, Time:10ms, TrainError:0.4891482, TrainErrorChange:-0.3290729, TrainAccuracy: 0.6388889\n",
      "Epoch:3, Time:8ms, TrainError:0.38582256, TrainErrorChange:-0.103325635, TrainAccuracy: 0.943922\n",
      "Epoch:4, Time:14ms, TrainError:0.32299483, TrainErrorChange:-0.062827736, TrainAccuracy: 0.9575758\n",
      "Epoch:5, Time:16ms, TrainError:0.2768873, TrainErrorChange:-0.04610753, TrainAccuracy: 0.9575758\n",
      "Epoch:6, Time:4ms, TrainError:0.24381275, TrainErrorChange:-0.033074543, TrainAccuracy: 0.9575758\n",
      "Epoch:7, Time:1ms, TrainError:0.21998572, TrainErrorChange:-0.023827031, TrainAccuracy: 0.9575758\n",
      "Epoch:8, Time:2ms, TrainError:0.20210634, TrainErrorChange:-0.017879382, TrainAccuracy: 0.9575758\n",
      "Epoch:9, Time:2ms, TrainError:0.18801513, TrainErrorChange:-0.014091209, TrainAccuracy: 0.9575758\n",
      "Epoch:10, Time:5ms, TrainError:0.17651363, TrainErrorChange:-0.011501506, TrainAccuracy: 0.9575758\n",
      "Epoch:11, Time:6ms, TrainError:0.16705103, TrainErrorChange:-0.009462595, TrainAccuracy: 0.93743896\n",
      "Epoch:12, Time:1ms, TrainError:0.1594101, TrainErrorChange:-0.007640928, TrainAccuracy: 0.93743896\n",
      "Epoch:13, Time:1ms, TrainError:0.15347962, TrainErrorChange:-0.0059304833, TrainAccuracy: 0.93743896\n",
      "Epoch:14, Time:1ms, TrainError:0.14910902, TrainErrorChange:-0.0043706, TrainAccuracy: 0.93743896\n",
      "Epoch:15, Time:1ms, TrainError:0.14601724, TrainErrorChange:-0.0030917823, TrainAccuracy: 0.93743896\n",
      "Epoch:16, Time:1ms, TrainError:0.14374933, TrainErrorChange:-0.002267912, TrainAccuracy: 0.93743896\n",
      "Epoch:17, Time:2ms, TrainError:0.14173417, TrainErrorChange:-0.0020151585, TrainAccuracy: 0.93743896\n",
      "Epoch:18, Time:2ms, TrainError:0.13951217, TrainErrorChange:-0.0022220016, TrainAccuracy: 0.93743896\n",
      "Epoch:19, Time:3ms, TrainError:0.13704383, TrainErrorChange:-0.0024683326, TrainAccuracy: 0.93743896\n",
      "Epoch:20, Time:0ms, TrainError:0.13478348, TrainErrorChange:-0.0022603571, TrainAccuracy: 0.93743896\n",
      "Epoch:21, Time:3ms, TrainError:0.13334632, TrainErrorChange:-0.0014371574, TrainAccuracy: 0.93743896\n",
      "Epoch:22, Time:3ms, TrainError:0.1331035, TrainErrorChange:-2.4281442E-4, TrainAccuracy: 0.93743896\n",
      "Epoch:23, Time:7ms, TrainError:0.13413727, TrainErrorChange:0.001033768, TrainAccuracy: 0.93743896\n",
      "Epoch:24, Time:1ms, TrainError:0.13640489, TrainErrorChange:0.002267614, TrainAccuracy: 0.93743896\n",
      "Epoch:25, Time:1ms, TrainError:0.139791, TrainErrorChange:0.00338611, TrainAccuracy: 0.93743896\n",
      "Epoch:26, Time:1ms, TrainError:0.14406218, TrainErrorChange:0.0042711794, TrainAccuracy: 0.93743896\n",
      "Epoch:27, Time:2ms, TrainError:0.14882915, TrainErrorChange:0.004766971, TrainAccuracy: 0.93743896\n",
      "Epoch:28, Time:5ms, TrainError:0.15359853, TrainErrorChange:0.004769385, TrainAccuracy: 0.93743896\n",
      "Epoch:29, Time:3ms, TrainError:0.1579023, TrainErrorChange:0.0043037683, TrainAccuracy: 0.9575758\n",
      "Epoch:30, Time:7ms, TrainError:0.16138574, TrainErrorChange:0.0034834445, TrainAccuracy: 0.97840476\n",
      "Epoch:31, Time:1ms, TrainError:0.16373378, TrainErrorChange:0.0023480356, TrainAccuracy: 0.95740366\n",
      "Epoch:32, Time:5ms, TrainError:0.16460569, TrainErrorChange:8.7191164E-4, TrainAccuracy: 0.95740366\n",
      "Epoch:33, Time:1ms, TrainError:0.16389099, TrainErrorChange:-7.147044E-4, TrainAccuracy: 0.95740366\n",
      "Epoch:34, Time:1ms, TrainError:0.1619314, TrainErrorChange:-0.001959592, TrainAccuracy: 0.95740366\n",
      "Epoch:35, Time:10ms, TrainError:0.15908511, TrainErrorChange:-0.0028462857, TrainAccuracy: 0.95740366\n",
      "Epoch:36, Time:2ms, TrainError:0.15563692, TrainErrorChange:-0.0034481883, TrainAccuracy: 0.95740366\n",
      "Epoch:37, Time:1ms, TrainError:0.15196803, TrainErrorChange:-0.0036688894, TrainAccuracy: 0.93694574\n",
      "Epoch:38, Time:1ms, TrainError:0.14837673, TrainErrorChange:-0.003591299, TrainAccuracy: 0.93694574\n",
      "Epoch:39, Time:17ms, TrainError:0.14497057, TrainErrorChange:-0.003406167, TrainAccuracy: 0.95740366\n",
      "Epoch:40, Time:1ms, TrainError:0.14174272, TrainErrorChange:-0.0032278448, TrainAccuracy: 0.95740366\n",
      "Epoch:41, Time:1ms, TrainError:0.13865986, TrainErrorChange:-0.0030828565, TrainAccuracy: 0.95740366\n",
      "Epoch:42, Time:1ms, TrainError:0.13569443, TrainErrorChange:-0.0029654354, TrainAccuracy: 0.95740366\n",
      "Epoch:43, Time:4ms, TrainError:0.13282728, TrainErrorChange:-0.0028671473, TrainAccuracy: 0.95740366\n",
      "Epoch:44, Time:3ms, TrainError:0.13004337, TrainErrorChange:-0.0027839094, TrainAccuracy: 0.95740366\n",
      "Epoch:45, Time:2ms, TrainError:0.12733127, TrainErrorChange:-0.0027121007, TrainAccuracy: 0.95740366\n",
      "Epoch:46, Time:1ms, TrainError:0.1246818, TrainErrorChange:-0.0026494712, TrainAccuracy: 0.95740366\n",
      "Epoch:47, Time:1ms, TrainError:0.12209072, TrainErrorChange:-0.002591081, TrainAccuracy: 0.95740366\n",
      "Epoch:48, Time:1ms, TrainError:0.11955497, TrainErrorChange:-0.002535753, TrainAccuracy: 0.95740366\n",
      "Epoch:49, Time:2ms, TrainError:0.117075235, TrainErrorChange:-0.002479732, TrainAccuracy: 0.95740366\n",
      "Epoch:50, Time:1ms, TrainError:0.11465527, TrainErrorChange:-0.0024199635, TrainAccuracy: 0.95740366\n",
      "Epoch:51, Time:1ms, TrainError:0.11229984, TrainErrorChange:-0.002355434, TrainAccuracy: 0.95740366\n",
      "Epoch:52, Time:0ms, TrainError:0.11001268, TrainErrorChange:-0.0022871569, TrainAccuracy: 0.95740366\n",
      "Epoch:53, Time:1ms, TrainError:0.10779798, TrainErrorChange:-0.0022147, TrainAccuracy: 0.95740366\n",
      "Epoch:54, Time:1ms, TrainError:0.10565817, TrainErrorChange:-0.0021398067, TrainAccuracy: 0.95740366\n",
      "Epoch:55, Time:9ms, TrainError:0.10359541, TrainErrorChange:-0.0020627603, TrainAccuracy: 0.95740366\n",
      "Epoch:56, Time:0ms, TrainError:0.10161236, TrainErrorChange:-0.001983054, TrainAccuracy: 0.95740366\n",
      "Epoch:57, Time:6ms, TrainError:0.09970986, TrainErrorChange:-0.0019024983, TrainAccuracy: 0.95740366\n",
      "Epoch:58, Time:2ms, TrainError:0.09789012, TrainErrorChange:-0.0018197373, TrainAccuracy: 0.95740366\n",
      "Epoch:59, Time:1ms, TrainError:0.0961517, TrainErrorChange:-0.0017384216, TrainAccuracy: 0.95740366\n",
      "Epoch:60, Time:1ms, TrainError:0.094492935, TrainErrorChange:-0.0016587675, TrainAccuracy: 0.95740366\n",
      "Epoch:61, Time:6ms, TrainError:0.09290996, TrainErrorChange:-0.0015829727, TrainAccuracy: 0.95740366\n",
      "Epoch:62, Time:1ms, TrainError:0.09139754, TrainErrorChange:-0.0015124232, TrainAccuracy: 0.97840476\n",
      "Epoch:63, Time:1ms, TrainError:0.089950666, TrainErrorChange:-0.001446873, TrainAccuracy: 0.97840476\n",
      "Epoch:64, Time:0ms, TrainError:0.08856416, TrainErrorChange:-0.0013865083, TrainAccuracy: 0.97840476\n",
      "Epoch:65, Time:1ms, TrainError:0.08723296, TrainErrorChange:-0.0013311952, TrainAccuracy: 0.97840476\n",
      "Epoch:66, Time:1ms, TrainError:0.08595302, TrainErrorChange:-0.0012799427, TrainAccuracy: 0.97840476\n",
      "Epoch:67, Time:1ms, TrainError:0.084720746, TrainErrorChange:-0.0012322739, TrainAccuracy: 0.97840476\n",
      "Epoch:68, Time:0ms, TrainError:0.083533116, TrainErrorChange:-0.00118763, TrainAccuracy: 0.97840476\n",
      "Epoch:69, Time:1ms, TrainError:0.082387134, TrainErrorChange:-0.0011459813, TrainAccuracy: 0.97840476\n",
      "Epoch:70, Time:1ms, TrainError:0.081280954, TrainErrorChange:-0.0011061803, TrainAccuracy: 0.97840476\n",
      "Epoch:71, Time:0ms, TrainError:0.08021238, TrainErrorChange:-0.0010685772, TrainAccuracy: 0.97840476\n",
      "Epoch:72, Time:1ms, TrainError:0.07917977, TrainErrorChange:-0.0010326058, TrainAccuracy: 0.97840476\n",
      "Epoch:73, Time:0ms, TrainError:0.07818145, TrainErrorChange:-9.983182E-4, TrainAccuracy: 0.97840476\n",
      "Epoch:74, Time:1ms, TrainError:0.07721634, TrainErrorChange:-9.6511096E-4, TrainAccuracy: 0.97840476\n",
      "Epoch:75, Time:1ms, TrainError:0.07628258, TrainErrorChange:-9.337589E-4, TrainAccuracy: 0.97840476\n",
      "Epoch:76, Time:3ms, TrainError:0.07537889, TrainErrorChange:-9.036958E-4, TrainAccuracy: 0.97840476\n",
      "Epoch:77, Time:1ms, TrainError:0.074504636, TrainErrorChange:-8.742511E-4, TrainAccuracy: 0.97840476\n",
      "Epoch:78, Time:0ms, TrainError:0.0736584, TrainErrorChange:-8.4623694E-4, TrainAccuracy: 0.97840476\n",
      "Epoch:79, Time:0ms, TrainError:0.07283898, TrainErrorChange:-8.194223E-4, TrainAccuracy: 0.97840476\n"
     ]
    },
    {
     "name": "stdout",
     "output_type": "stream",
     "text": [
      "Epoch:80, Time:1ms, TrainError:0.07204541, TrainErrorChange:-7.935688E-4, TrainAccuracy: 0.97840476\n",
      "Epoch:81, Time:0ms, TrainError:0.071276836, TrainErrorChange:-7.685721E-4, TrainAccuracy: 0.97840476\n",
      "Epoch:82, Time:1ms, TrainError:0.07053256, TrainErrorChange:-7.4427575E-4, TrainAccuracy: 0.97840476\n",
      "Epoch:83, Time:1ms, TrainError:0.06981139, TrainErrorChange:-7.211715E-4, TrainAccuracy: 0.97840476\n",
      "Epoch:84, Time:1ms, TrainError:0.06911232, TrainErrorChange:-6.990656E-4, TrainAccuracy: 0.97840476\n",
      "Epoch:85, Time:0ms, TrainError:0.06843481, TrainErrorChange:-6.775111E-4, TrainAccuracy: 0.97840476\n",
      "Epoch:86, Time:1ms, TrainError:0.067778215, TrainErrorChange:-6.565973E-4, TrainAccuracy: 0.97840476\n",
      "Epoch:87, Time:1ms, TrainError:0.06714154, TrainErrorChange:-6.3667446E-4, TrainAccuracy: 0.97840476\n",
      "Epoch:88, Time:0ms, TrainError:0.06652436, TrainErrorChange:-6.1718374E-4, TrainAccuracy: 0.97840476\n",
      "Epoch:89, Time:0ms, TrainError:0.06592583, TrainErrorChange:-5.985275E-4, TrainAccuracy: 0.97840476\n",
      "Epoch:90, Time:1ms, TrainError:0.065345265, TrainErrorChange:-5.8056414E-4, TrainAccuracy: 0.97840476\n",
      "Epoch:91, Time:1ms, TrainError:0.064782135, TrainErrorChange:-5.631298E-4, TrainAccuracy: 0.97840476\n",
      "Epoch:92, Time:1ms, TrainError:0.064235754, TrainErrorChange:-5.463809E-4, TrainAccuracy: 0.97840476\n",
      "Epoch:93, Time:1ms, TrainError:0.06370563, TrainErrorChange:-5.301237E-4, TrainAccuracy: 0.97840476\n",
      "Epoch:94, Time:1ms, TrainError:0.06319128, TrainErrorChange:-5.1435083E-4, TrainAccuracy: 0.97840476\n",
      "Epoch:95, Time:2ms, TrainError:0.06269194, TrainErrorChange:-4.993379E-4, TrainAccuracy: 0.97840476\n",
      "Epoch:96, Time:3ms, TrainError:0.06220716, TrainErrorChange:-4.847832E-4, TrainAccuracy: 0.97840476\n",
      "Epoch:97, Time:1ms, TrainError:0.06173632, TrainErrorChange:-4.7083944E-4, TrainAccuracy: 0.97840476\n",
      "Epoch:98, Time:1ms, TrainError:0.06127923, TrainErrorChange:-4.570894E-4, TrainAccuracy: 0.97840476\n",
      "Epoch:99, Time:1ms, TrainError:0.060834933, TrainErrorChange:-4.4429675E-4, TrainAccuracy: 0.97840476\n",
      "Epoch:100, Time:0ms, TrainError:0.06040351, TrainErrorChange:-4.3142214E-4, TrainAccuracy: 0.97840476\n",
      "Epoch:101, Time:1ms, TrainError:0.059983958, TrainErrorChange:-4.1955337E-4, TrainAccuracy: 0.97840476\n",
      "Epoch:102, Time:1ms, TrainError:0.05957625, TrainErrorChange:-4.0770695E-4, TrainAccuracy: 0.97840476\n",
      "Epoch:103, Time:1ms, TrainError:0.059179667, TrainErrorChange:-3.9658323E-4, TrainAccuracy: 0.97840476\n",
      "Epoch:104, Time:1ms, TrainError:0.05879415, TrainErrorChange:-3.8551912E-4, TrainAccuracy: 0.97840476\n",
      "Epoch:105, Time:0ms, TrainError:0.058418665, TrainErrorChange:-3.7548319E-4, TrainAccuracy: 0.97840476\n",
      "Epoch:106, Time:1ms, TrainError:0.058053397, TrainErrorChange:-3.6526844E-4, TrainAccuracy: 0.97840476\n",
      "Epoch:107, Time:4ms, TrainError:0.057697814, TrainErrorChange:-3.5558268E-4, TrainAccuracy: 0.97840476\n",
      "Epoch:108, Time:1ms, TrainError:0.057351436, TrainErrorChange:-3.463775E-4, TrainAccuracy: 0.97840476\n",
      "Epoch:109, Time:1ms, TrainError:0.057013854, TrainErrorChange:-3.3758208E-4, TrainAccuracy: 0.97840476\n",
      "Epoch:110, Time:1ms, TrainError:0.056685086, TrainErrorChange:-3.2876804E-4, TrainAccuracy: 0.97840476\n",
      "Epoch:111, Time:1ms, TrainError:0.05636432, TrainErrorChange:-3.2076612E-4, TrainAccuracy: 0.97840476\n",
      "Epoch:112, Time:0ms, TrainError:0.056051735, TrainErrorChange:-3.1258538E-4, TrainAccuracy: 0.97840476\n",
      "Epoch:113, Time:1ms, TrainError:0.05574667, TrainErrorChange:-3.0506402E-4, TrainAccuracy: 0.97840476\n",
      "Epoch:114, Time:0ms, TrainError:0.055449124, TrainErrorChange:-2.975464E-4, TrainAccuracy: 0.97840476\n",
      "Epoch:115, Time:2ms, TrainError:0.055158425, TrainErrorChange:-2.906993E-4, TrainAccuracy: 0.97840476\n",
      "Epoch:116, Time:1ms, TrainError:0.054874845, TrainErrorChange:-2.8358027E-4, TrainAccuracy: 0.97840476\n",
      "Epoch:117, Time:1ms, TrainError:0.05459765, TrainErrorChange:-2.7719513E-4, TrainAccuracy: 0.97840476\n",
      "Epoch:118, Time:1ms, TrainError:0.05432689, TrainErrorChange:-2.7076155E-4, TrainAccuracy: 0.97840476\n",
      "Epoch:119, Time:1ms, TrainError:0.054062314, TrainErrorChange:-2.6457384E-4, TrainAccuracy: 0.97840476\n",
      "Epoch:120, Time:1ms, TrainError:0.053803634, TrainErrorChange:-2.5868043E-4, TrainAccuracy: 0.97840476\n",
      "Epoch:121, Time:1ms, TrainError:0.053550586, TrainErrorChange:-2.530478E-4, TrainAccuracy: 0.97840476\n",
      "Epoch:122, Time:3ms, TrainError:0.053303145, TrainErrorChange:-2.4744123E-4, TrainAccuracy: 0.97840476\n",
      "Epoch:123, Time:2ms, TrainError:0.053061094, TrainErrorChange:-2.4205074E-4, TrainAccuracy: 0.97840476\n",
      "Epoch:124, Time:3ms, TrainError:0.05282403, TrainErrorChange:-2.3706257E-4, TrainAccuracy: 0.97840476\n",
      "Epoch:125, Time:10ms, TrainError:0.05259209, TrainErrorChange:-2.319403E-4, TrainAccuracy: 0.97840476\n",
      "Epoch:126, Time:3ms, TrainError:0.05236493, TrainErrorChange:-2.2716075E-4, TrainAccuracy: 0.97840476\n",
      "Epoch:127, Time:0ms, TrainError:0.052142445, TrainErrorChange:-2.2248551E-4, TrainAccuracy: 0.97840476\n",
      "Epoch:128, Time:1ms, TrainError:0.051924556, TrainErrorChange:-2.178885E-4, TrainAccuracy: 0.97840476\n",
      "Epoch:129, Time:10ms, TrainError:0.05171107, TrainErrorChange:-2.1348521E-4, TrainAccuracy: 0.97840476\n",
      "Epoch:130, Time:3ms, TrainError:0.051501885, TrainErrorChange:-2.0918623E-4, TrainAccuracy: 0.97840476\n",
      "Epoch:131, Time:0ms, TrainError:0.05129679, TrainErrorChange:-2.0509586E-4, TrainAccuracy: 0.97840476\n",
      "Epoch:132, Time:1ms, TrainError:0.05109572, TrainErrorChange:-2.0106882E-4, TrainAccuracy: 0.97840476\n",
      "Epoch:133, Time:0ms, TrainError:0.050898556, TrainErrorChange:-1.9716471E-4, TrainAccuracy: 0.97840476\n",
      "Epoch:134, Time:0ms, TrainError:0.050705153, TrainErrorChange:-1.9340217E-4, TrainAccuracy: 0.97840476\n",
      "Epoch:135, Time:0ms, TrainError:0.05051549, TrainErrorChange:-1.8966198E-4, TrainAccuracy: 0.97840476\n",
      "Epoch:136, Time:3ms, TrainError:0.050329387, TrainErrorChange:-1.8610433E-4, TrainAccuracy: 0.97840476\n",
      "Epoch:137, Time:0ms, TrainError:0.050146844, TrainErrorChange:-1.8254295E-4, TrainAccuracy: 0.97840476\n",
      "Epoch:138, Time:1ms, TrainError:0.049967613, TrainErrorChange:-1.7923117E-4, TrainAccuracy: 0.97840476\n",
      "Epoch:139, Time:0ms, TrainError:0.049791675, TrainErrorChange:-1.7593801E-4, TrainAccuracy: 0.97840476\n",
      "Epoch:140, Time:4ms, TrainError:0.04961896, TrainErrorChange:-1.7271563E-4, TrainAccuracy: 0.97840476\n",
      "Epoch:141, Time:0ms, TrainError:0.049449384, TrainErrorChange:-1.6957521E-4, TrainAccuracy: 0.97840476\n",
      "Epoch:142, Time:5ms, TrainError:0.049282916, TrainErrorChange:-1.6646832E-4, TrainAccuracy: 0.97840476\n",
      "Epoch:143, Time:0ms, TrainError:0.04911942, TrainErrorChange:-1.6349554E-4, TrainAccuracy: 0.97840476\n",
      "Epoch:144, Time:0ms, TrainError:0.048958663, TrainErrorChange:-1.6075745E-4, TrainAccuracy: 0.97840476\n",
      "Epoch:145, Time:1ms, TrainError:0.048800834, TrainErrorChange:-1.5782937E-4, TrainAccuracy: 0.97840476\n",
      "Epoch:146, Time:0ms, TrainError:0.048645746, TrainErrorChange:-1.5508756E-4, TrainAccuracy: 0.97840476\n",
      "Epoch:147, Time:1ms, TrainError:0.04849325, TrainErrorChange:-1.5249476E-4, TrainAccuracy: 0.97840476\n",
      "Epoch:148, Time:0ms, TrainError:0.04834343, TrainErrorChange:-1.4982E-4, TrainAccuracy: 0.97840476\n",
      "Epoch:149, Time:1ms, TrainError:0.048196156, TrainErrorChange:-1.4727563E-4, TrainAccuracy: 0.97840476\n",
      "Epoch:150, Time:0ms, TrainError:0.04805137, TrainErrorChange:-1.4478713E-4, TrainAccuracy: 0.97840476\n",
      "Epoch:151, Time:1ms, TrainError:0.047908925, TrainErrorChange:-1.4244393E-4, TrainAccuracy: 0.97840476\n",
      "Epoch:152, Time:9ms, TrainError:0.04776874, TrainErrorChange:-1.4018267E-4, TrainAccuracy: 0.97840476\n",
      "Epoch:153, Time:1ms, TrainError:0.047630947, TrainErrorChange:-1.3779476E-4, TrainAccuracy: 0.97840476\n",
      "Epoch:154, Time:1ms, TrainError:0.047495376, TrainErrorChange:-1.3557076E-4, TrainAccuracy: 0.97840476\n",
      "Epoch:155, Time:7ms, TrainError:0.047361992, TrainErrorChange:-1.3338402E-4, TrainAccuracy: 0.97840476\n",
      "Epoch:156, Time:0ms, TrainError:0.04723055, TrainErrorChange:-1.3144314E-4, TrainAccuracy: 0.97840476\n",
      "Epoch:157, Time:0ms, TrainError:0.04710141, TrainErrorChange:-1.2914091E-4, TrainAccuracy: 0.97840476\n",
      "Epoch:158, Time:1ms, TrainError:0.046974156, TrainErrorChange:-1.2725219E-4, TrainAccuracy: 0.97840476\n",
      "Epoch:159, Time:0ms, TrainError:0.046848908, TrainErrorChange:-1.2524799E-4, TrainAccuracy: 0.97840476\n",
      "Epoch:160, Time:2ms, TrainError:0.046725444, TrainErrorChange:-1.2346357E-4, TrainAccuracy: 0.97840476\n"
     ]
    },
    {
     "name": "stdout",
     "output_type": "stream",
     "text": [
      "Epoch:161, Time:0ms, TrainError:0.046603896, TrainErrorChange:-1.2154877E-4, TrainAccuracy: 0.97840476\n",
      "Epoch:162, Time:0ms, TrainError:0.04648411, TrainErrorChange:-1.1978671E-4, TrainAccuracy: 0.97840476\n",
      "Epoch:163, Time:0ms, TrainError:0.046366148, TrainErrorChange:-1.1796132E-4, TrainAccuracy: 0.97840476\n",
      "Epoch:164, Time:0ms, TrainError:0.046249814, TrainErrorChange:-1.16333365E-4, TrainAccuracy: 0.97840476\n",
      "Epoch:165, Time:1ms, TrainError:0.04613515, TrainErrorChange:-1.14664435E-4, TrainAccuracy: 0.97840476\n",
      "Epoch:166, Time:0ms, TrainError:0.04602216, TrainErrorChange:-1.12988055E-4, TrainAccuracy: 0.97840476\n",
      "Epoch:167, Time:1ms, TrainError:0.04591072, TrainErrorChange:-1.1144206E-4, TrainAccuracy: 0.97840476\n",
      "Epoch:168, Time:1ms, TrainError:0.04580085, TrainErrorChange:-1.0986999E-4, TrainAccuracy: 0.97840476\n",
      "Epoch:169, Time:0ms, TrainError:0.045692477, TrainErrorChange:-1.0837242E-4, TrainAccuracy: 0.97840476\n",
      "Epoch:170, Time:1ms, TrainError:0.04558542, TrainErrorChange:-1.0705739E-4, TrainAccuracy: 0.97840476\n",
      "Epoch:171, Time:9ms, TrainError:0.045479823, TrainErrorChange:-1.0559708E-4, TrainAccuracy: 0.97840476\n",
      "Epoch:172, Time:1ms, TrainError:0.045375608, TrainErrorChange:-1.04214996E-4, TrainAccuracy: 0.97840476\n",
      "Epoch:173, Time:0ms, TrainError:0.04527269, TrainErrorChange:-1.02918595E-4, TrainAccuracy: 0.97840476\n",
      "Epoch:174, Time:1ms, TrainError:0.045171123, TrainErrorChange:-1.01566315E-4, TrainAccuracy: 0.97840476\n",
      "Epoch:175, Time:0ms, TrainError:0.045070764, TrainErrorChange:-1.0035932E-4, TrainAccuracy: 0.97840476\n",
      "Epoch:176, Time:0ms, TrainError:0.044971682, TrainErrorChange:-9.9081546E-5, TrainAccuracy: 0.97840476\n",
      "Epoch:177, Time:0ms, TrainError:0.044873748, TrainErrorChange:-9.793416E-5, TrainAccuracy: 0.97840476\n",
      "Epoch:178, Time:1ms, TrainError:0.044776864, TrainErrorChange:-9.6883625E-5, TrainAccuracy: 0.97840476\n",
      "Epoch:179, Time:1ms, TrainError:0.04468132, TrainErrorChange:-9.554252E-5, TrainAccuracy: 0.97840476\n",
      "Epoch:180, Time:1ms, TrainError:0.044586763, TrainErrorChange:-9.4559044E-5, TrainAccuracy: 0.97840476\n",
      "Epoch:181, Time:1ms, TrainError:0.044493284, TrainErrorChange:-9.347871E-5, TrainAccuracy: 0.97840476\n",
      "Epoch:182, Time:1ms, TrainError:0.044400766, TrainErrorChange:-9.2517585E-5, TrainAccuracy: 0.97840476\n",
      "Epoch:183, Time:3ms, TrainError:0.04430928, TrainErrorChange:-9.148568E-5, TrainAccuracy: 0.97840476\n",
      "Epoch:184, Time:0ms, TrainError:0.04421879, TrainErrorChange:-9.049103E-5, TrainAccuracy: 0.97840476\n",
      "Epoch:185, Time:1ms, TrainError:0.044129122, TrainErrorChange:-8.966774E-5, TrainAccuracy: 0.97840476\n",
      "Epoch:186, Time:0ms, TrainError:0.04404064, TrainErrorChange:-8.8483095E-5, TrainAccuracy: 0.97840476\n",
      "Epoch:187, Time:0ms, TrainError:0.04395288, TrainErrorChange:-8.776039E-5, TrainAccuracy: 0.97840476\n",
      "Epoch:188, Time:0ms, TrainError:0.043865997, TrainErrorChange:-8.688122E-5, TrainAccuracy: 0.97840476\n",
      "Epoch:189, Time:0ms, TrainError:0.04377989, TrainErrorChange:-8.610636E-5, TrainAccuracy: 0.97840476\n",
      "Epoch:190, Time:2ms, TrainError:0.043694694, TrainErrorChange:-8.519739E-5, TrainAccuracy: 0.97840476\n",
      "Epoch:191, Time:0ms, TrainError:0.043610185, TrainErrorChange:-8.450821E-5, TrainAccuracy: 0.97840476\n",
      "Epoch:192, Time:0ms, TrainError:0.04352659, TrainErrorChange:-8.3595514E-5, TrainAccuracy: 0.97840476\n",
      "Epoch:193, Time:1ms, TrainError:0.043443713, TrainErrorChange:-8.287653E-5, TrainAccuracy: 0.97840476\n",
      "Epoch:194, Time:0ms, TrainError:0.04336145, TrainErrorChange:-8.226186E-5, TrainAccuracy: 0.97840476\n",
      "Epoch:195, Time:1ms, TrainError:0.04328, TrainErrorChange:-8.144975E-5, TrainAccuracy: 0.97840476\n",
      "Epoch:196, Time:1ms, TrainError:0.04319916, TrainErrorChange:-8.0842525E-5, TrainAccuracy: 0.97840476\n",
      "Epoch:197, Time:1ms, TrainError:0.04311919, TrainErrorChange:-7.997081E-5, TrainAccuracy: 0.97840476\n",
      "Epoch:198, Time:1ms, TrainError:0.04303961, TrainErrorChange:-7.957965E-5, TrainAccuracy: 0.97840476\n",
      "Epoch:199, Time:1ms, TrainError:0.0429608, TrainErrorChange:-7.8808516E-5, TrainAccuracy: 0.97840476\n",
      "Epoch:200, Time:0ms, TrainError:0.042882584, TrainErrorChange:-7.8216195E-5, TrainAccuracy: 0.97840476\n",
      "Epoch:201, Time:2ms, TrainError:0.042804983, TrainErrorChange:-7.760152E-5, TrainAccuracy: 0.97840476\n",
      "Epoch:202, Time:0ms, TrainError:0.042727888, TrainErrorChange:-7.709488E-5, TrainAccuracy: 0.97840476\n",
      "Epoch:203, Time:1ms, TrainError:0.04265152, TrainErrorChange:-7.636845E-5, TrainAccuracy: 0.97840476\n",
      "Epoch:204, Time:1ms, TrainError:0.04257559, TrainErrorChange:-7.592887E-5, TrainAccuracy: 0.97840476\n",
      "Epoch:205, Time:0ms, TrainError:0.04250038, TrainErrorChange:-7.5209886E-5, TrainAccuracy: 0.97840476\n",
      "Epoch:206, Time:0ms, TrainError:0.042425413, TrainErrorChange:-7.496774E-5, TrainAccuracy: 0.97840476\n",
      "Epoch:207, Time:1ms, TrainError:0.042351168, TrainErrorChange:-7.4245036E-5, TrainAccuracy: 0.97840476\n",
      "Epoch:208, Time:0ms, TrainError:0.042277332, TrainErrorChange:-7.3835254E-5, TrainAccuracy: 0.97840476\n",
      "Epoch:209, Time:1ms, TrainError:0.042204008, TrainErrorChange:-7.332489E-5, TrainAccuracy: 0.97840476\n",
      "Epoch:210, Time:1ms, TrainError:0.042131145, TrainErrorChange:-7.286295E-5, TrainAccuracy: 0.97840476\n",
      "Epoch:211, Time:1ms, TrainError:0.042058833, TrainErrorChange:-7.231161E-5, TrainAccuracy: 0.97840476\n",
      "Epoch:212, Time:3ms, TrainError:0.041986883, TrainErrorChange:-7.195026E-5, TrainAccuracy: 0.97840476\n",
      "Epoch:213, Time:1ms, TrainError:0.04191547, TrainErrorChange:-7.1413815E-5, TrainAccuracy: 0.97840476\n",
      "Epoch:214, Time:0ms, TrainError:0.04184439, TrainErrorChange:-7.107854E-5, TrainAccuracy: 0.97840476\n",
      "Epoch:215, Time:0ms, TrainError:0.04177386, TrainErrorChange:-7.053092E-5, TrainAccuracy: 0.97840476\n",
      "Epoch:216, Time:1ms, TrainError:0.041703723, TrainErrorChange:-7.013604E-5, TrainAccuracy: 0.97840476\n",
      "Epoch:217, Time:0ms, TrainError:0.041633952, TrainErrorChange:-6.977096E-5, TrainAccuracy: 0.97840476\n",
      "Epoch:218, Time:1ms, TrainError:0.041564614, TrainErrorChange:-6.933883E-5, TrainAccuracy: 0.97840476\n",
      "Epoch:219, Time:0ms, TrainError:0.041495647, TrainErrorChange:-6.89663E-5, TrainAccuracy: 0.97840476\n",
      "Epoch:220, Time:0ms, TrainError:0.04142711, TrainErrorChange:-6.853789E-5, TrainAccuracy: 0.97840476\n",
      "Epoch:221, Time:0ms, TrainError:0.04135894, TrainErrorChange:-6.816909E-5, TrainAccuracy: 0.97840476\n",
      "Epoch:222, Time:1ms, TrainError:0.04129128, TrainErrorChange:-6.765872E-5, TrainAccuracy: 0.97840476\n",
      "Epoch:223, Time:0ms, TrainError:0.04122376, TrainErrorChange:-6.752089E-5, TrainAccuracy: 0.97840476\n",
      "Epoch:224, Time:0ms, TrainError:0.041156814, TrainErrorChange:-6.694719E-5, TrainAccuracy: 0.97840476\n",
      "Epoch:225, Time:0ms, TrainError:0.04109016, TrainErrorChange:-6.6652894E-5, TrainAccuracy: 0.97840476\n",
      "Epoch:226, Time:0ms, TrainError:0.041023955, TrainErrorChange:-6.620586E-5, TrainAccuracy: 0.97840476\n",
      "Epoch:227, Time:0ms, TrainError:0.040957913, TrainErrorChange:-6.604195E-5, TrainAccuracy: 0.97840476\n",
      "Epoch:228, Time:0ms, TrainError:0.040892478, TrainErrorChange:-6.5434724E-5, TrainAccuracy: 0.97840476\n",
      "Epoch:229, Time:0ms, TrainError:0.04082712, TrainErrorChange:-6.535649E-5, TrainAccuracy: 0.97840476\n",
      "Epoch:230, Time:1ms, TrainError:0.04076231, TrainErrorChange:-6.48126E-5, TrainAccuracy: 0.97840476\n",
      "Epoch:231, Time:1ms, TrainError:0.04069778, TrainErrorChange:-6.452948E-5, TrainAccuracy: 0.97840476\n",
      "Epoch:232, Time:1ms, TrainError:0.04063355, TrainErrorChange:-6.422773E-5, TrainAccuracy: 0.97840476\n",
      "Epoch:233, Time:1ms, TrainError:0.040569793, TrainErrorChange:-6.375834E-5, TrainAccuracy: 0.97840476\n",
      "Epoch:234, Time:0ms, TrainError:0.040506348, TrainErrorChange:-6.344542E-5, TrainAccuracy: 0.97840476\n",
      "Epoch:235, Time:0ms, TrainError:0.040443048, TrainErrorChange:-6.330013E-5, TrainAccuracy: 0.97840476\n",
      "Epoch:236, Time:1ms, TrainError:0.040380225, TrainErrorChange:-6.2823296E-5, TrainAccuracy: 0.97840476\n",
      "Epoch:237, Time:1ms, TrainError:0.04031789, TrainErrorChange:-6.233528E-5, TrainAccuracy: 0.97840476\n",
      "Epoch:238, Time:1ms, TrainError:0.040255673, TrainErrorChange:-6.221607E-5, TrainAccuracy: 0.97840476\n",
      "Epoch:239, Time:0ms, TrainError:0.040193837, TrainErrorChange:-6.1836094E-5, TrainAccuracy: 0.97840476\n",
      "Epoch:240, Time:0ms, TrainError:0.04013237, TrainErrorChange:-6.146729E-5, TrainAccuracy: 0.97840476\n",
      "Epoch:241, Time:1ms, TrainError:0.040071327, TrainErrorChange:-6.104261E-5, TrainAccuracy: 0.97840476\n"
     ]
    },
    {
     "name": "stdout",
     "output_type": "stream",
     "text": [
      "Epoch:242, Time:1ms, TrainError:0.04001064, TrainErrorChange:-6.0688704E-5, TrainAccuracy: 0.97840476\n",
      "Epoch:243, Time:1ms, TrainError:0.039950173, TrainErrorChange:-6.0465187E-5, TrainAccuracy: 0.97840476\n",
      "\n",
      "TRAINING COMPLETED\n",
      "Total Training Time: 2851ms\n",
      "------------------------------------------------------------------------\n",
      "~~~~~~~~~~~~~~~~~~~~~~~~~~~~~~~~~~~~~~~~~~~~~~~~~~~~~~~~~~~~~~~~~~~~~~~~~~~~~~\n",
      "\n"
     ]
    }
   ],
   "source": [
    "BackpropagationTrainer trainer = neuralNet.getTrainer();\n",
    "trainer.setMaxError(0.04f);\n",
    "trainer.setLearningRate(0.01f);\n",
    "trainer.setMomentum(0.9f);\n",
    "trainer.setOptimizer(OptimizerType.MOMENTUM);\n",
    "\n",
    "neuralNet.train(trainTestSet[0]);\n",
    "System.out.println(\"~~~~~~~~~~~~~~~~~~~~~~~~~~~~~~~~~~~~~~~~~~~~~~~~~~~~~~~~~~~~~~~~~~~~~~~~~~~~~~\");\n",
    "System.out.println(\"\");"
   ]
  },
  {
   "cell_type": "markdown",
   "metadata": {},
   "source": [
    "## Evaluating the model"
   ]
  },
  {
   "cell_type": "code",
   "execution_count": 10,
   "metadata": {},
   "outputs": [
    {
     "name": "stdout",
     "output_type": "stream",
     "text": [
      "~~~ Evaluating the model ~~~\n"
     ]
    }
   ],
   "source": [
    "System.out.println(\"~~~ Evaluating the model ~~~\");\n",
    "ClassifierEvaluator evaluator = new ClassifierEvaluator();\n",
    "EvaluationMetrics em = evaluator.evaluate(neuralNet, trainTestSet[1]);"
   ]
  },
  {
   "cell_type": "code",
   "execution_count": 11,
   "metadata": {
    "scrolled": true
   },
   "outputs": [
    {
     "name": "stdout",
     "output_type": "stream",
     "text": [
      "CLASSIFIER EVALUATION METRICS\n",
      "Accuracy: 0.93460923 (How often is classifier correct in total)\n",
      "Precision: 0.96491224 (How often is classifier correct when it gives positive prediction)\n",
      "F1Score: 0.96491224 (Average of precision and recall)\n",
      "Recall: 0.96491224 (When it is actually positive class, how often does it give positive prediction)\n",
      "\n",
      "CONFUSION MATRIX\n",
      "                  none     setosa versicolor  virginica\n",
      "       none          0          0          0          0\n",
      "     setosa          0         21          0          0\n",
      " versicolor          0          0         20          2\n",
      "  virginica          0          0          0         17\n",
      "\n"
     ]
    }
   ],
   "source": [
    "System.out.println(\"CLASSIFIER EVALUATION METRICS\");\n",
    "System.out.println(em);\n",
    "System.out.println(\"CONFUSION MATRIX\");\n",
    "ConfusionMatrix cm = evaluator.getConfusionMatrix();\n",
    "System.out.println(cm);"
   ]
  },
  {
   "cell_type": "markdown",
   "metadata": {},
   "source": [
    "## Credits & References\n",
    "\n",
    "#### A good place to learn more about Classifications, the associated metrics and other concepts is the Tutorial on Tribuo's git repo, see https://github.com/oracle/tribuo/blob/main/tutorials/irises-tribuo-v4.ipynb., you can find more explanations and further reading material there."
   ]
  },
  {
   "cell_type": "code",
   "execution_count": null,
   "metadata": {},
   "outputs": [],
   "source": []
  }
 ],
 "metadata": {
  "kernelspec": {
   "display_name": "Java",
   "language": "java",
   "name": "java"
  },
  "language_info": {
   "codemirror_mode": "java",
   "file_extension": ".jshell",
   "mimetype": "text/x-java-source",
   "name": "Java",
   "pygments_lexer": "java",
   "version": "11.0.9+10-jvmci-20.3-b06"
  }
 },
 "nbformat": 4,
 "nbformat_minor": 2
}
